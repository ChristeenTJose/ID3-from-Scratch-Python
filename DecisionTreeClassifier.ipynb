{
  "nbformat": 4,
  "nbformat_minor": 0,
  "metadata": {
    "colab": {
      "name": "DecisionTreeClassifier.ipynb",
      "provenance": [],
      "collapsed_sections": [
        "vw9A8nf53mpu"
      ],
      "toc_visible": true,
      "include_colab_link": true
    },
    "kernelspec": {
      "name": "python3",
      "display_name": "Python 3"
    },
    "accelerator": "GPU"
  },
  "cells": [
    {
      "cell_type": "markdown",
      "metadata": {
        "id": "view-in-github",
        "colab_type": "text"
      },
      "source": [
        "<a href=\"https://colab.research.google.com/github/ChristeenTJose/Machine-learning-from-scratch-python/blob/master/DecisionTreeClassifier.ipynb\" target=\"_parent\"><img src=\"https://colab.research.google.com/assets/colab-badge.svg\" alt=\"Open In Colab\"/></a>"
      ]
    },
    {
      "cell_type": "markdown",
      "metadata": {
        "id": "uY5MbrXJ2Okg",
        "colab_type": "text"
      },
      "source": [
        "# Decision Tree Classifier (Implementation of ID3 algorithm)"
      ]
    },
    {
      "cell_type": "code",
      "metadata": {
        "colab_type": "code",
        "id": "Dq2JqlVaS9Ms",
        "colab": {}
      },
      "source": [
        "def build_tree(parent,index,dataset):\n",
        "  if index==1:# 0*degree +0 will be 0 , causing infinite loop\n",
        "    temp_dataset1=dataset\n",
        "  else:\n",
        "    temp_dataset1=dataset\n",
        "    i=Decision_Tree_Classifier[parent]\n",
        "    branches=temp_dataset1.loc[:,i].unique()\n",
        "    j=branches[index%10]\n",
        "    print('Parent: ',parent)\n",
        "    print('Index: ',index)\n",
        "    print(i,\"  \",j)\n",
        "    temp_dataset1=temp_dataset1[dataset[i]==j]\n",
        "  '''\n",
        "    Common code:\n",
        "  '''\n",
        "  temp_dataset2=temp_dataset1[temp_dataset1['play']=='yes']\n",
        "  N=len(temp_dataset1)\n",
        "  Nm=N\n",
        "  Nmi=len(temp_dataset2)\n",
        "  Pmi=Nmi/Nm\n",
        "  if Pmi != 0 and Pmi != 1:#log 0 will cause domain error\n",
        "    Qmi=(Nm-Nmi)/Nm\n",
        "    entropy=Pmi*math.log(Pmi,2)\n",
        "    entropy+=Qmi*math.log(Qmi,2)\n",
        "    entropy*=-1\n",
        "  else:\n",
        "    entropy=0\n",
        "    if Pmi==0:\n",
        "      Decision_Tree_Classifier.update({index:0})\n",
        "    else:\n",
        "      Decision_Tree_Classifier.update({index:1})\n",
        "    return 0\n",
        "  count=0\n",
        "  print(\"Entropy: \",entropy)\n",
        "  for i in attributes:\n",
        "    print(i)\n",
        "    branches=temp_dataset1.loc[:,i].unique()\n",
        "    gain=entropy\n",
        "    for j in branches:\n",
        "      print(' ',j)\n",
        "      NE=0\n",
        "      temp_dataset2=temp_dataset1[temp_dataset1[i]==j]\n",
        "      Nm=len(temp_dataset2)\n",
        "      temp_dataset2=temp_dataset2[temp_dataset2['play']=='yes']\n",
        "      Nmi=len(temp_dataset2)\n",
        "      Pmi=Nmi/Nm\n",
        "      if Pmi != 0 and Pmi != 1:\n",
        "        Qmi=(Nm-Nmi)/Nm\n",
        "        print('  ','Pmi: ',Nmi,'/',Nm,\" \",'Qmi: ',Nm-Nmi,'/',Nm)\n",
        "        NE+=-1*(Pmi*math.log(Pmi,2)+Qmi*math.log(Qmi,2))\n",
        "      else:\n",
        "        NE=0 #zero entropy as all are either True or False\n",
        "      gain-=(Nm/N)*NE\n",
        "      print('   Average Attribute Entropy-= (',Nm,\"/\",N,')*',NE)\n",
        "    print('   Gain ',gain)\n",
        "    print()\n",
        "    if count==0:\n",
        "      Max_gain=gain\n",
        "      decision=i\n",
        "      count+=1\n",
        "    elif gain>Max_gain:\n",
        "      Max_gain=gain\n",
        "      decision=i\n",
        "  print(\"Decision: \",decision)#Decisions are nodes\n",
        "  print()\n",
        "  Decision_Tree_Classifier.update({index:decision})\n",
        "  if index==1:\n",
        "    attributes.remove(decision)#root node\n",
        "  branches=temp_dataset1.loc[:,decision].unique()\n",
        "  for j in range(len(branches)):\n",
        "    build_tree(index,index*degree+j,temp_dataset1)"
      ],
      "execution_count": 0,
      "outputs": []
    },
    {
      "cell_type": "markdown",
      "metadata": {
        "id": "g_1rx4ET14WS",
        "colab_type": "text"
      },
      "source": [
        "Import the dataset"
      ]
    },
    {
      "cell_type": "code",
      "metadata": {
        "id": "vlG1ld8_ar7S",
        "colab_type": "code",
        "colab": {}
      },
      "source": [
        "import math\n",
        "import pandas as pd\n",
        "dataset=pd.read_csv(\"tennis.csv\")"
      ],
      "execution_count": 0,
      "outputs": []
    },
    {
      "cell_type": "markdown",
      "metadata": {
        "id": "uDTY_OWE2FPN",
        "colab_type": "text"
      },
      "source": [
        "Determine Attributes"
      ]
    },
    {
      "cell_type": "code",
      "metadata": {
        "id": "1Hd5PD0KbE49",
        "colab_type": "code",
        "colab": {}
      },
      "source": [
        "attributes=list(dataset.columns)\n",
        "target=attributes[-1]\n",
        "target=dataset.loc[:,target]\n",
        "attributes=attributes[:-1]"
      ],
      "execution_count": 0,
      "outputs": []
    },
    {
      "cell_type": "markdown",
      "metadata": {
        "id": "ihwAPhy42y0w",
        "colab_type": "text"
      },
      "source": [
        "Declare the Decision tree and its degree \n"
      ]
    },
    {
      "cell_type": "code",
      "metadata": {
        "id": "bUGqScPSgNVT",
        "colab_type": "code",
        "colab": {}
      },
      "source": [
        "Decision_Tree_Classifier={}\n",
        "degree=10 #For better readability"
      ],
      "execution_count": 0,
      "outputs": []
    },
    {
      "cell_type": "markdown",
      "metadata": {
        "id": "CucgOOVY3JTL",
        "colab_type": "text"
      },
      "source": [
        "Build the Tree"
      ]
    },
    {
      "cell_type": "code",
      "metadata": {
        "id": "E0ztPzRK3HDy",
        "colab_type": "code",
        "colab": {
          "base_uri": "https://localhost:8080/",
          "height": 1000
        },
        "outputId": "3ca2088e-baa1-4154-90fa-4627ca79368f"
      },
      "source": [
        "build_tree(-1,1,dataset)"
      ],
      "execution_count": 6,
      "outputs": [
        {
          "output_type": "stream",
          "text": [
            "Entropy:  0.9402859586706309\n",
            "outlook\n",
            "  sunny\n",
            "   Pmi:  2 / 5   Qmi:  3 / 5\n",
            "   Average Attribute Entropy-= ( 5 / 14 )* 0.9709505944546686\n",
            "  overcast\n",
            "   Average Attribute Entropy-= ( 4 / 14 )* 0\n",
            "  rainy\n",
            "   Pmi:  3 / 5   Qmi:  2 / 5\n",
            "   Average Attribute Entropy-= ( 5 / 14 )* 0.9709505944546686\n",
            "   Gain  0.2467498197744391\n",
            "\n",
            "temp\n",
            "  hot\n",
            "   Pmi:  2 / 4   Qmi:  2 / 4\n",
            "   Average Attribute Entropy-= ( 4 / 14 )* 1.0\n",
            "  mild\n",
            "   Pmi:  4 / 6   Qmi:  2 / 6\n",
            "   Average Attribute Entropy-= ( 6 / 14 )* 0.9182958340544896\n",
            "  cool\n",
            "   Pmi:  3 / 4   Qmi:  1 / 4\n",
            "   Average Attribute Entropy-= ( 4 / 14 )* 0.8112781244591328\n",
            "   Gain  0.029222565658954647\n",
            "\n",
            "humidity\n",
            "  high\n",
            "   Pmi:  3 / 7   Qmi:  4 / 7\n",
            "   Average Attribute Entropy-= ( 7 / 14 )* 0.9852281360342516\n",
            "  normal\n",
            "   Pmi:  6 / 7   Qmi:  1 / 7\n",
            "   Average Attribute Entropy-= ( 7 / 14 )* 0.5916727785823275\n",
            "   Gain  0.15183550136234136\n",
            "\n",
            "windy\n",
            "  False\n",
            "   Pmi:  6 / 8   Qmi:  2 / 8\n",
            "   Average Attribute Entropy-= ( 8 / 14 )* 0.8112781244591328\n",
            "  True\n",
            "   Pmi:  3 / 6   Qmi:  3 / 6\n",
            "   Average Attribute Entropy-= ( 6 / 14 )* 1.0\n",
            "   Gain  0.04812703040826932\n",
            "\n",
            "Decision:  outlook\n",
            "\n",
            "Parent:  1\n",
            "Index:  10\n",
            "outlook    sunny\n",
            "Entropy:  0.9709505944546686\n",
            "temp\n",
            "  hot\n",
            "   Average Attribute Entropy-= ( 2 / 5 )* 0\n",
            "  mild\n",
            "   Pmi:  1 / 2   Qmi:  1 / 2\n",
            "   Average Attribute Entropy-= ( 2 / 5 )* 1.0\n",
            "  cool\n",
            "   Average Attribute Entropy-= ( 1 / 5 )* 0\n",
            "   Gain  0.5709505944546686\n",
            "\n",
            "humidity\n",
            "  high\n",
            "   Average Attribute Entropy-= ( 3 / 5 )* 0\n",
            "  normal\n",
            "   Average Attribute Entropy-= ( 2 / 5 )* 0\n",
            "   Gain  0.9709505944546686\n",
            "\n",
            "windy\n",
            "  False\n",
            "   Pmi:  1 / 3   Qmi:  2 / 3\n",
            "   Average Attribute Entropy-= ( 3 / 5 )* 0.9182958340544896\n",
            "  True\n",
            "   Pmi:  1 / 2   Qmi:  1 / 2\n",
            "   Average Attribute Entropy-= ( 2 / 5 )* 1.0\n",
            "   Gain  0.01997309402197489\n",
            "\n",
            "Decision:  humidity\n",
            "\n",
            "Parent:  10\n",
            "Index:  100\n",
            "humidity    high\n",
            "Parent:  10\n",
            "Index:  101\n",
            "humidity    normal\n",
            "Parent:  1\n",
            "Index:  11\n",
            "outlook    overcast\n",
            "Parent:  1\n",
            "Index:  12\n",
            "outlook    rainy\n",
            "Entropy:  0.9709505944546686\n",
            "temp\n",
            "  mild\n",
            "   Pmi:  2 / 3   Qmi:  1 / 3\n",
            "   Average Attribute Entropy-= ( 3 / 5 )* 0.9182958340544896\n",
            "  cool\n",
            "   Pmi:  1 / 2   Qmi:  1 / 2\n",
            "   Average Attribute Entropy-= ( 2 / 5 )* 1.0\n",
            "   Gain  0.01997309402197489\n",
            "\n",
            "humidity\n",
            "  high\n",
            "   Pmi:  1 / 2   Qmi:  1 / 2\n",
            "   Average Attribute Entropy-= ( 2 / 5 )* 1.0\n",
            "  normal\n",
            "   Pmi:  2 / 3   Qmi:  1 / 3\n",
            "   Average Attribute Entropy-= ( 3 / 5 )* 0.9182958340544896\n",
            "   Gain  0.01997309402197489\n",
            "\n",
            "windy\n",
            "  False\n",
            "   Average Attribute Entropy-= ( 3 / 5 )* 0\n",
            "  True\n",
            "   Average Attribute Entropy-= ( 2 / 5 )* 0\n",
            "   Gain  0.9709505944546686\n",
            "\n",
            "Decision:  windy\n",
            "\n",
            "Parent:  12\n",
            "Index:  120\n",
            "windy    False\n",
            "Parent:  12\n",
            "Index:  121\n",
            "windy    True\n"
          ],
          "name": "stdout"
        }
      ]
    },
    {
      "cell_type": "markdown",
      "metadata": {
        "id": "Uz7qgiN33Wbz",
        "colab_type": "text"
      },
      "source": [
        "View the Decision Tree"
      ]
    },
    {
      "cell_type": "code",
      "metadata": {
        "id": "se1FEV0YnJXx",
        "colab_type": "code",
        "outputId": "e84d4016-e219-4bf6-e0f4-8b972ae60fa1",
        "colab": {
          "base_uri": "https://localhost:8080/",
          "height": 151
        }
      },
      "source": [
        "Decision_Tree_Classifier"
      ],
      "execution_count": 7,
      "outputs": [
        {
          "output_type": "execute_result",
          "data": {
            "text/plain": [
              "{1: 'outlook',\n",
              " 10: 'humidity',\n",
              " 11: 1,\n",
              " 12: 'windy',\n",
              " 100: 0,\n",
              " 101: 1,\n",
              " 120: 1,\n",
              " 121: 0}"
            ]
          },
          "metadata": {
            "tags": []
          },
          "execution_count": 7
        }
      ]
    },
    {
      "cell_type": "markdown",
      "metadata": {
        "id": "vw9A8nf53mpu",
        "colab_type": "text"
      },
      "source": [
        "# Predicting\n",
        "\n",
        "\n"
      ]
    },
    {
      "cell_type": "code",
      "metadata": {
        "id": "hv9ahfZrx7Hg",
        "colab_type": "code",
        "colab": {}
      },
      "source": [
        "prediction=[]\n",
        "def classify(row,key):\n",
        "  decision=Decision_Tree_Classifier[key]\n",
        "  if decision==1:\n",
        "    prediction.append(1)\n",
        "  elif decision==0:\n",
        "    prediction.append(0)\n",
        "  else:\n",
        "    key*=degree\n",
        "    branches=dataset.loc[:,decision].unique()\n",
        "    for i in range(len(branches)):\n",
        "      if row[decision]==branches[i]:\n",
        "        classify(row,key+i)\n"
      ],
      "execution_count": 0,
      "outputs": []
    },
    {
      "cell_type": "code",
      "metadata": {
        "id": "A9bH22d4ky4J",
        "colab_type": "code",
        "colab": {}
      },
      "source": [
        "for i in range(len(dataset)):\n",
        "  classify(dataset.loc[i,:],1)\n"
      ],
      "execution_count": 0,
      "outputs": []
    },
    {
      "cell_type": "code",
      "metadata": {
        "id": "twPAHXDIk1tA",
        "colab_type": "code",
        "outputId": "18806818-9157-4b45-b53c-e810d4249453",
        "colab": {
          "base_uri": "https://localhost:8080/",
          "height": 0
        }
      },
      "source": [
        "prediction"
      ],
      "execution_count": 10,
      "outputs": [
        {
          "output_type": "execute_result",
          "data": {
            "text/plain": [
              "[0, 0, 1, 1, 1, 0, 1, 0, 1, 1, 1, 1, 1, 0]"
            ]
          },
          "metadata": {
            "tags": []
          },
          "execution_count": 10
        }
      ]
    },
    {
      "cell_type": "markdown",
      "metadata": {
        "id": "ezcNbGy84a_d",
        "colab_type": "text"
      },
      "source": [
        "# Accuracy"
      ]
    },
    {
      "cell_type": "code",
      "metadata": {
        "id": "ziuXXulLTw-F",
        "colab_type": "code",
        "outputId": "9d1d2fa6-1b12-4c96-9f83-61f666a0737f",
        "colab": {
          "base_uri": "https://localhost:8080/",
          "height": 34
        }
      },
      "source": [
        "accuracy=0\n",
        "for i in range(len(prediction)):\n",
        "  if prediction[i]==1:\n",
        "    prediction[i]='yes'\n",
        "  else:\n",
        "    prediction[i]='no'\n",
        "  if prediction[i]==target[i]:\n",
        "    accuracy+=1\n",
        "accuracy/=len(prediction)\n",
        "print('Accuracy= ',accuracy*100)"
      ],
      "execution_count": 11,
      "outputs": [
        {
          "output_type": "stream",
          "text": [
            "Accuracy=  100.0\n"
          ],
          "name": "stdout"
        }
      ]
    }
  ]
}